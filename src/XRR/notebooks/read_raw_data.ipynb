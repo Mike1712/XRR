{
 "cells": [
  {
   "cell_type": "markdown",
   "id": "a5fd3c16-54b0-4b81-82a9-050141c01f30",
   "metadata": {},
   "source": [
    "# Import packages"
   ]
  },
  {
   "cell_type": "code",
   "execution_count": 2,
   "id": "48979cb3-2e16-4545-90ca-446ee3003ee3",
   "metadata": {
    "tags": []
   },
   "outputs": [],
   "source": [
    "from XRR.read_data import ID31"
   ]
  }
 ],
 "metadata": {
  "kernelspec": {
   "display_name": "Python 3 (ipykernel)",
   "language": "python",
   "name": "python3"
  },
  "language_info": {
   "codemirror_mode": {
    "name": "ipython",
    "version": 3
   },
   "file_extension": ".py",
   "mimetype": "text/x-python",
   "name": "python",
   "nbconvert_exporter": "python",
   "pygments_lexer": "ipython3",
   "version": "3.11.7"
  }
 },
 "nbformat": 4,
 "nbformat_minor": 5
}
